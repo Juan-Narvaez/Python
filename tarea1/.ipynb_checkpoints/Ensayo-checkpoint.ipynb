{
 "cells": [
  {
   "cell_type": "markdown",
   "metadata": {},
   "source": [
    "![Título](Images/cisco.png)"
   ]
  },
  {
   "cell_type": "markdown",
   "metadata": {},
   "source": [
    "# Ensayo: Grupos de colaboración COPS para programadores"
   ]
  },
  {
   "cell_type": "markdown",
   "metadata": {},
   "source": [
    "##                                                     INTRODUCCÍON"
   ]
  },
  {
   "cell_type": "markdown",
   "metadata": {},
   "source": [
    "Los de colaboración COPS para programadores, son plataformas de colaboración para empresas tecnológicas dedicadas al desarrollo de software y aplicativos, que permiten muchas opciones a la hora de escoger o decidir qué herramientas de desarrollo de software que se va utilizar en las tareas diarias en el trabajo."
   ]
  },
  {
   "cell_type": "markdown",
   "metadata": {},
   "source": [
    "El objetivo de estas plataformas COPS, permite la colaboración de varios grupos sin importar la especialización en el ámbito informático, con la formalidad de a portar o compartir ideas tecnológicas, cuando se encuentra alguna dificultad al momento de desarrollo o implementación de proyectos de software."
   ]
  },
  {
   "cell_type": "markdown",
   "metadata": {},
   "source": [
    "Existen varias plataformas que permiten trabajar dos o más personas en el mismo archivo en tiempo real con el fin de conciliar el producto final en una sola base de código. Entre las principales plataformas tenemos:"
   ]
  },
  {
   "cell_type": "markdown",
   "metadata": {},
   "source": [
    "#### GITHUB:\n",
    "\n",
    "Que permite crear proyectos abiertos y privados de herramientas y aplicaciones, que se caracteriza por sus funciones colaborativas que ayudan a las personas:\n",
    "•\taportar como un repositorio de códigos\n",
    "•\tPuede ser descargado y revisado por cualquier usuario\n",
    "•\tPermite adjuntar procesos de codificación para mejorar el producto final.\n"
   ]
  },
  {
   "cell_type": "markdown",
   "metadata": {},
   "source": [
    "#### STACK OVERFLOW: \n",
    "Sitio web de preguntas y respuestas a programadores y aficionados que contiene una amplia gama de temas de programación que se caracteriza por su función de:\n",
    "•\tRegistro\n",
    "•\tPublica pregunta\n",
    "•\tRecibe respuesta\n",
    "Las respuestas son publicadas por los miembros de una comunidad con las mismas experiencias que encontraron solución al problema planteado. Permitiendo recibir notificaciones de las actividades del grupo sobre nuevas preguntas, actualizaciones, menciones y comentarios.\n"
   ]
  },
  {
   "cell_type": "markdown",
   "metadata": {},
   "source": [
    "#### DEVNET: \n",
    "Es una plataforma de cursos prácticos informáticos o tecnológicos lo que permite las organizaciones aprovechar el potencial de las aplicaciones y al usuario poner a prueba sus conocimientos de desarrollo y diseño se caracteriza por:\n",
    "\n",
    "•\tEntregar certificaciones calificados\n",
    "•\tEmprendimiento en desarrollo de aplicaciones y seguridad \n",
    "•\tPrácticas de laboratorio informático\n"
   ]
  },
  {
   "cell_type": "markdown",
   "metadata": {},
   "source": [
    "#### CONCLUCIONES\n",
    "Por lo general estas plataformas permite a los programadores i aficionados a:\n",
    "•\tAplicar nuevas herramientas tecnológicas de desarrollo de software y aplicaciones\n",
    "•\t Enfocar métodos lógicos de implementación\n",
    "•\tAdquirir conocimientos técnicos de lenguaje de programación complejos\n",
    "•\tAporta ideas, prestar apoyo y asesoramiento a otros miembros de trabajo\n",
    "•\tTener más capacidad de resolución de problemas planteados\n"
   ]
  },
  {
   "cell_type": "markdown",
   "metadata": {},
   "source": [
    "### Autor. Juan Narvaez"
   ]
  },
  {
   "cell_type": "markdown",
   "metadata": {
    "collapsed": true
   },
   "source": [
    "<font size='0.5'>© 2017 Cisco y/o sus filiales. Todos los derechos reservados. Este documento es información pública de Cisco.<font>"
   ]
  }
 ],
 "metadata": {
  "anaconda-cloud": {},
  "kernelspec": {
   "display_name": "Python 3",
   "language": "python",
   "name": "python3"
  },
  "language_info": {
   "codemirror_mode": {
    "name": "ipython",
    "version": 3
   },
   "file_extension": ".py",
   "mimetype": "text/x-python",
   "name": "python",
   "nbconvert_exporter": "python",
   "pygments_lexer": "ipython3",
   "version": "3.8.8"
  }
 },
 "nbformat": 4,
 "nbformat_minor": 1
}
